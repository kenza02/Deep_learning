{
  "cells": [
    {
      "cell_type": "markdown",
      "metadata": {
        "id": "nW4ZxVd1n7Kd"
      },
      "source": [
        "# Atelier 2 : Vectorisation"
      ]
    },
    {
      "cell_type": "markdown",
      "metadata": {
        "id": "JT1wV-Don7Kf"
      },
      "source": [
        "## 1.\tObjectif\n"
      ]
    },
    {
      "cell_type": "markdown",
      "metadata": {
        "id": "P20HNzoCn7Kf"
      },
      "source": [
        "L’objectif de cet atelier est de decouvrire les techniques courantes de vectorisation de documents text ansi que les differents algorithmes permettant de caculer la similarité ou la distance entre les document texte.\n"
      ]
    },
    {
      "cell_type": "markdown",
      "metadata": {
        "id": "5aCCUzLyn7Kg"
      },
      "source": [
        "## 2. Méthodes Basiques"
      ]
    },
    {
      "cell_type": "markdown",
      "metadata": {
        "id": "nS-xpif2n7Kg"
      },
      "source": [
        "Afin de simplifier l’analyse des données texte, il est recommandé d’utiliser des représentations plus consistantes qu’une simple segmentation. Il faut bien évidement réaliser des prétraitements telles que la racinisation, la lemmatisation, supprimer les redondances, supprimer les mots qui représentent le même sens. Mais c’est encore insuffisant pour obtenir un modèle représentatif qui reflète l’importance et le sens exacte de chaque mot dans une expression ou dans un document texte.\n",
        "Afin de repondre à ce besoin, plusieurs représentations vectorielles des termes contenus dans un texte sont possibles : one-hot-vector, Bag-of-words, TF-IDF, SVD, Word2vec... Nous utilisant scikitlearn pour réaliser ces différentes représentations vectorielles. Ça n’empêche pas que ces représentations vectorielles peuvent être obtenues en faisant du codage from scratch."
      ]
    },
    {
      "cell_type": "markdown",
      "metadata": {
        "id": "7ITkj6bbn7Kh"
      },
      "source": [
        "## 2.1. One-hot-vector"
      ]
    },
    {
      "cell_type": "markdown",
      "metadata": {
        "id": "EHi6XziRn7Kh"
      },
      "source": [
        "Le modèle commence par la création d’un vocabulaire à partir du corpus formé par tous les documents ou les expressions texte et determine par la suite pour chaque document/expression la présence de chaque terme du vocabulaire."
      ]
    },
    {
      "cell_type": "code",
      "execution_count": null,
      "metadata": {
        "id": "BFpfILnQn7Kh"
      },
      "outputs": [],
      "source": [
        "from sklearn.feature_extraction.text import CountVectorizer\n",
        "\n",
        "from sklearn.preprocessing import Binarizer\n",
        "\n",
        "freq   = CountVectorizer()\n",
        "corpus = ['This is the first document.','This is the second second document.','And the third one.','Is this the first document?']\n",
        "corpus=[ sent.lower() for sent in corpus]\n",
        "corpus = freq.fit_transform(corpus)\n",
        "\n",
        "onehot = Binarizer()\n",
        "corpus = onehot.fit_transform(corpus.toarray())\n",
        "print(corpus)"
      ]
    },
    {
      "cell_type": "markdown",
      "metadata": {
        "id": "NUpeuGeSn7Ki"
      },
      "source": [
        "## 2.2.\tBeg-of-words"
      ]
    },
    {
      "cell_type": "markdown",
      "metadata": {
        "id": "JGz_XGYvn7Kj"
      },
      "source": [
        "Pour la représentation vectorielle Bag-of-Words, le modèle commence par la création d’un vocabulaire à partir du corpus formé par tous les documents ou les expressions texte et calcul par la suite pour chaque document/expression le nombre d’occurrences de chaque terme du vocabulaire.\n",
        "\n"
      ]
    },
    {
      "cell_type": "code",
      "execution_count": null,
      "metadata": {
        "id": "LNIDwQCxn7Kj",
        "outputId": "60b44742-e88b-4bf7-c04e-50b74301f764"
      },
      "outputs": [
        {
          "name": "stdout",
          "output_type": "stream",
          "text": [
            "[[0 1 1 1 0 0 1 0 1]\n",
            " [0 1 0 1 0 1 1 0 1]\n",
            " [1 0 0 0 1 0 1 1 0]\n",
            " [0 1 1 1 0 0 1 0 1]]\n",
            "['and', 'document', 'first', 'is', 'one', 'second', 'the', 'third', 'this']\n",
            "1\n"
          ]
        },
        {
          "data": {
            "text/plain": [
              "array([[0, 0, 0, 0, 0, 0, 0, 0, 0]])"
            ]
          },
          "execution_count": 5,
          "metadata": {},
          "output_type": "execute_result"
        }
      ],
      "source": [
        "from sklearn.feature_extraction.text import CountVectorizer\n",
        "vectorizer = CountVectorizer()\n",
        "corpus = ['This is the first document.','This is the second  document.','And the third one.','Is this the first document?']\n",
        "corpus=[ sent.lower() for sent in corpus]\n",
        "X = vectorizer.fit_transform(corpus) #sparsy format\n",
        "print(X.toarray()) # explicit matrix format\n",
        "print(vectorizer.get_feature_names() ) #vocabulary as list of string\n",
        "print(vectorizer.vocabulary_.get('document')) #get column index of a specific term in the vocabulary\n",
        "vectorizer.transform(['Something completely new.']).toarray()#apply the model to a new document"
      ]
    },
    {
      "cell_type": "markdown",
      "metadata": {
        "id": "U0zkMHOin7Kj"
      },
      "source": [
        "## 2.3.\tTF-IDF"
      ]
    },
    {
      "cell_type": "markdown",
      "metadata": {
        "id": "RCqlEza-n7Kj"
      },
      "source": [
        "La représentation vectorielle Bag-of-Words considère la fréquence d’apparition des termes du vocabulaire dans chaque document du corpus séparément des autres. Cette représentation néglige l’importance du terme par rapport au corpus tout en entier.  TF-IDF (term-frequency times inverse document-frequency) est un autre modèle de représentation vectorielle des occurrences des termes d’un document en considérant également leurs occurrences dans tout le corpus. Cette approche va permettre de diminuer l’importance des termes les plus fréquents dans des documents texte tels que les stop words.\n",
        "\n",
        "tf-idf(t,d)=tf(t,d)×idf(t).\n",
        "\n",
        "idf(t)=log[(1+n)/(1+df(t))]+1\n",
        "n: la taille du corpus.\n",
        "df(t) :  le nombre de documents qui comportent le terme t."
      ]
    },
    {
      "cell_type": "code",
      "execution_count": null,
      "metadata": {
        "id": "QXn0f4ACn7Kk",
        "outputId": "8019d6dd-8cc1-412a-e3fc-e45afa4935db"
      },
      "outputs": [
        {
          "name": "stdout",
          "output_type": "stream",
          "text": [
            "[[0.         0.43877674 0.54197657 0.43877674 0.         0.\n",
            "  0.35872874 0.         0.43877674]\n",
            " [0.         0.27230147 0.         0.27230147 0.         0.85322574\n",
            "  0.22262429 0.         0.27230147]\n",
            " [0.55280532 0.         0.         0.         0.55280532 0.\n",
            "  0.28847675 0.55280532 0.        ]\n",
            " [0.         0.43877674 0.54197657 0.43877674 0.         0.\n",
            "  0.35872874 0.         0.43877674]]\n",
            "['and', 'document', 'first', 'is', 'one', 'second', 'the', 'third', 'this']\n"
          ]
        }
      ],
      "source": [
        "from sklearn.feature_extraction.text import TfidfVectorizer\n",
        "corpus = ['This is the first document.','this is the second second Document.','And the third one.','Is this the first document?']\n",
        "vectorizer = TfidfVectorizer()\n",
        "X=vectorizer.fit_transform(corpus)\n",
        "print(X.toarray())\n",
        "print(vectorizer.get_feature_names() )\n",
        "\n",
        "#NB: le vecteur tf-idf obtenu sera normalisé pour obtenir des valeurs entre 0 et 1."
      ]
    },
    {
      "cell_type": "markdown",
      "metadata": {
        "id": "I_htBOtQn7Kk"
      },
      "source": [
        "## 2.4. Exercice 1: Detection du plagiarisme Approche syntaxique"
      ]
    },
    {
      "cell_type": "markdown",
      "metadata": {
        "id": "uBr2xsRZn7Kk"
      },
      "source": [
        "On va reprendre l'exercie de detection du plagiarisme en se bsant sur une representation vectorielle des document du corpus."
      ]
    },
    {
      "cell_type": "markdown",
      "metadata": {
        "id": "qaSxi4MQn7Kk"
      },
      "source": [
        "Pour la similarité syntaxique entre des vecteurs, plusieurs distances sont possibles à savoir : distance, euclidienne, Cosine Jaccard, Levenshtein, Hamming…\n",
        "\n",
        "l'exemple ci-dessous permet de calculer la similarité syntaxique entre les documents en se basant sur une representation vectorielle en TFIDF avec la distance euclidienne et la distance cosine."
      ]
    },
    {
      "cell_type": "code",
      "execution_count": null,
      "metadata": {
        "id": "8ghsOP4mn7Kk",
        "outputId": "90940c60-4a34-4a2a-b28c-b32bbc462761"
      },
      "outputs": [
        {
          "name": "stdout",
          "output_type": "stream",
          "text": [
            "[[0.         1.05990529 1.33904078 0.        ]]\n",
            "[[0.         0.56169962 0.8965151  0.        ]]\n"
          ]
        }
      ],
      "source": [
        "from sklearn.metrics.pairwise import cosine_distances,euclidean_distances\n",
        "tfidf_vectorizer = TfidfVectorizer()\n",
        "corpus = ['This is the first document.','This is the second second document.','And the third one.','Is this the first document?']\n",
        "tfidf_matrix = tfidf_vectorizer.fit_transform(corpus)\n",
        "tfidf_matrix.shape\n",
        "\n",
        "#compute similarity for first sentence with rest of the sentences\n",
        "print(euclidean_distances(tfidf_matrix[0:1],tfidf_matrix))\n",
        "print(cosine_distances(tfidf_matrix[0:1],tfidf_matrix))"
      ]
    },
    {
      "cell_type": "markdown",
      "metadata": {
        "id": "ZmEHJhf2n7Kl"
      },
      "source": [
        "* Realiser la même chose en se basant sur les representations OHV et BOW?\n",
        "* Comparer les performances des trois methodes en terme de temps d'execution et precision?"
      ]
    },
    {
      "cell_type": "markdown",
      "metadata": {
        "id": "F02K82EFn7Km"
      },
      "source": [
        "# 3.\tMethodes Avancées\n"
      ]
    },
    {
      "cell_type": "markdown",
      "metadata": {
        "id": "wopGemCzn7Kp"
      },
      "source": [
        "* Installer Gensim: pip install --upgrade gensim\n",
        "* Recuperer le dataset du plagiarisme?\n",
        "* Réaliser les différentes tâches de prétraitement?\n",
        "* Generer le vocabulaire sous forme d'une liste de termes distincts est triés dans l'ordre lexicograpique\n"
      ]
    },
    {
      "cell_type": "markdown",
      "metadata": {
        "id": "kp7kUitTn7Kp"
      },
      "source": [
        "## 3.2.\tApproche à base des Cooccurrences"
      ]
    },
    {
      "cell_type": "markdown",
      "metadata": {
        "id": "gJTgD2S8n7Kp"
      },
      "source": [
        "* Generer le vocabulaire sous forme d'une liste de termes distincts est triés dans l'ordre lexicograpique"
      ]
    },
    {
      "cell_type": "code",
      "execution_count": null,
      "metadata": {
        "id": "N9pGmPqgn7Kp",
        "outputId": "5217cd4e-3b5a-4269-a904-2efa5a50fe9a"
      },
      "outputs": [
        {
          "data": {
            "text/plain": [
              "['and', 'document', 'first', 'is', 'one', 'second', 'third', 'this']"
            ]
          },
          "execution_count": 11,
          "metadata": {},
          "output_type": "execute_result"
        }
      ],
      "source": [
        "from nltk.tokenize import word_tokenize\n",
        "from nltk.tokenize import word_tokenize\n",
        "from nltk.tokenize import sent_tokenize\n",
        "from nltk.stem import WordNetLemmatizer\n",
        "from nltk.corpus import stopwords\n",
        "lemmmatizer=WordNetLemmatizer()\n",
        "\n",
        "\n",
        "\n",
        "corpus = ['This is the first document.','This is the second second document.','And the third one.','Is this the first document?']\n",
        "corpus_lemetized=[]\n",
        "\n",
        "for doc in corpus:\n",
        "    words = word_tokenize(doc)\n",
        "    words = [lemmmatizer.lemmatize(word.lower()) for word in words if(not word in set(stopwords.words('english')) and  word.isalpha())]\n",
        "    corpus_lemetized.append(words)\n",
        "corpus_lemetized\n",
        "\n",
        "\n",
        "vocabulary = []\n",
        "for doc in corpus_lemetized:\n",
        "    for word in doc:\n",
        "        if word not in vocabulary:\n",
        "            vocabulary.append(word)\n",
        "vocabulary.sort()\n",
        "\n",
        "vocabulary\n"
      ]
    },
    {
      "cell_type": "markdown",
      "metadata": {
        "id": "HHlhd9RBn7Kq"
      },
      "source": [
        "* Construire une matrice carrée des cooccurrences (Terme à Terme) pour  une fenêtre de taille 𝑛 en considérant les n mots  avant et après le mot  central de la fenêtre.\n"
      ]
    },
    {
      "cell_type": "code",
      "execution_count": null,
      "metadata": {
        "id": "BfoW0XGmn7Kq"
      },
      "outputs": [],
      "source": [
        "V=len(vocabulary)\n",
        "import numpy as np\n",
        "\n",
        "corpus = ['This is the first document.','This is the second second document.','And the third one.','Is this the first document?']\n",
        "\n",
        "\n",
        "M=np.zeros((V,V))\n",
        "n=4\n",
        "for doc in corpus_lemetized:\n",
        "    T=len(doc)-2*n+1 if n<len(doc) else 1\n",
        "    for t in range(T):\n",
        "        borne=len(doc) if t+n>len(doc) else t+n\n",
        "        for w1 in doc[t:borne]:\n",
        "            for w2 in doc[t:borne]:\n",
        "                if w1!=w2:\n",
        "                    M[vocabulary.index(w1)][vocabulary.index(w2)]+=1"
      ]
    },
    {
      "cell_type": "markdown",
      "metadata": {
        "id": "3kd5uhGAn7Kr"
      },
      "source": [
        "* Appliquer La SVD pour obtenir une representation vectorielle des differents mots du vocabulaire dans un espace de dimension 2."
      ]
    },
    {
      "cell_type": "code",
      "execution_count": null,
      "metadata": {
        "id": "b2a1-5qhn7Kr"
      },
      "outputs": [],
      "source": [
        "from sklearn.decomposition import TruncatedSVD\n",
        "from sklearn.preprocessing import Normalizer\n",
        "from sklearn.pipeline import make_pipeline\n",
        "svd = TruncatedSVD(n_components=2)\n",
        "normalizer = Normalizer(copy=False)\n",
        "lsa = make_pipeline(svd, normalizer)\n",
        "vectors = lsa.fit_transform(M)\n"
      ]
    },
    {
      "cell_type": "markdown",
      "metadata": {
        "id": "tjjO8y8fn7Kr"
      },
      "source": [
        "* En se servant de la bibliotheque matplotlib Tracer les vecteurs obtenus dans un plan 2D"
      ]
    },
    {
      "cell_type": "code",
      "execution_count": null,
      "metadata": {
        "id": "p6GGArRin7Kr",
        "outputId": "68e3f6c3-2d2a-473e-d896-ddbccae21596"
      },
      "outputs": [
        {
          "data": {
            "image/png": "[encoded data removed]",
            "text/plain": [
              "<Figure size 432x288 with 1 Axes>"
            ]
          },
          "metadata": {
            "needs_background": "light"
          },
          "output_type": "display_data"
        }
      ],
      "source": [
        "from matplotlib import pyplot\n",
        "x=[M[i][0] for i in range(V)]\n",
        "y=[M[i][1] for i in range(V)]\n",
        "fig, ax = pyplot.subplots()\n",
        "ax.scatter(x, y)\n",
        "for i, txt in enumerate(vocabulary):\n",
        "    ax.annotate(txt, (x[i], y[i]))"
      ]
    },
    {
      "cell_type": "markdown",
      "metadata": {
        "id": "hlnr1f1jn7Kr"
      },
      "source": [
        "### Exercice\n",
        "\n",
        "\n",
        "* Récuperer le dataset du plagiarisme?\n",
        "* Réaliser les différentes tâches de prétraitement?\n",
        "* Récuperer la représetation vectorielle des differents document du corpus\n",
        "* Appliquer La SVD pour reduire la dimesion de la representation vectorielle des termes pour les representer dans un espace de dimension 2\n",
        "* Tracer les vecteurs obtenus en se servant de la bibliotheque matplolib\n",
        "\n",
        "* En se servant de la représentation vectorielle obtenue, calculer les similarités entre les réponses des étudiants et les définitions trouvées sur Wikipédia. Réaliser une représentation vectorielle des documents en se basant sur les représentations vectorielles de leurs mots (une moyenne par exemple) et utiliser par la suite la distance euclidienne ou la distance corsinus.\n",
        "\n",
        "\n",
        "\n",
        "\n",
        "\n",
        "\n"
      ]
    },
    {
      "cell_type": "markdown",
      "metadata": {
        "id": "jOnmF9nin7Ks"
      },
      "source": [
        "## 3.3.\tApprochee iteratives"
      ]
    },
    {
      "cell_type": "markdown",
      "metadata": {
        "id": "Wq-ByqlJn7Ks"
      },
      "source": [
        "### Word2Vec"
      ]
    },
    {
      "cell_type": "markdown",
      "metadata": {
        "id": "byQM2uKgn7Ks"
      },
      "source": [
        "Word2Vec est un algorithme à base des réseaux de neurones et qui permet d'avoir une représentation vectorielle des mots contenus dans un corpus très large de documents texte de telle sorte que les mots qui se répètent toujours ensemble dans les mêmes contextes auront des représentations vectorielles similaires.\n",
        "\n",
        "L'algorithme word2Vect doit tourner sur un corpus très large de documents texte afin d'obtenir un modèle donnant une bonne représentation vectorielle d'un nombre important de mots. Cela nécessitera bien évidement un temps considérable pendant le processus d'apprentissage et nécessitera également des ressources importantes en matière de CPU et de RAM.\n",
        "\n",
        "La librairie Gensim fourni une implémentation de l'algorithme Word2Vec avec des modèles préétablis qui peuvent être exploités dans la comparaison de documents texte :\n",
        "\n",
        "    *fasttext-wiki-news-subwords-300\n",
        "    *conceptnet-numberbatch-17-06-300\n",
        "    *word2vec-ruscorpora-300\n",
        "    *word2vec-google-news-300\n",
        "    *glove-wiki-gigaword-50\n",
        "    *glove-wiki-gigaword-100\n",
        "    *glove-wiki-gigaword-200\n",
        "    *glove-wiki-gigaword-300\n",
        "    *glove-twitter-25\n",
        "    *glove-twitter-50\n",
        "    *glove-twitter-100\n",
        "    *glove-twitter-200\n",
        "\n",
        "Ci-dessous un code permettant de récupérer le modèle préétabli contenant 1193514 mots représentés dans un espace vectoriel de dimension 25"
      ]
    },
    {
      "cell_type": "code",
      "execution_count": null,
      "metadata": {
        "id": "kcC3Ijnkn7Ks"
      },
      "outputs": [],
      "source": [
        "import gensim.downloader\n",
        "glove_vectors = gensim.downloader.load('glove-twitter-25')\n"
      ]
    },
    {
      "cell_type": "markdown",
      "metadata": {
        "id": "DNnwAoPfn7Ks"
      },
      "source": [
        "Le modèle préétablis peut être utilisé pour récupérer les représentations vectorielles des mots comme ci-dessous."
      ]
    },
    {
      "cell_type": "code",
      "execution_count": null,
      "metadata": {
        "id": "pO-ja-rLn7Kt"
      },
      "outputs": [],
      "source": [
        "vec_data = glove_vectors['data']\n",
        "print(vec_data)"
      ]
    },
    {
      "cell_type": "markdown",
      "metadata": {
        "id": "nEmU7ciXn7Kt"
      },
      "source": [
        "Genism offre plusieurs fonctions permettant de récupérer et d'exploiter les similarités entre les mots en se basant sur leurs représentations vectorielles."
      ]
    },
    {
      "cell_type": "markdown",
      "metadata": {
        "id": "cgvd-H9Gn7Kt"
      },
      "source": [
        "* Le code ci-deesous permet de recuperer les 10 terms les plus similaires à un terme donné."
      ]
    },
    {
      "cell_type": "code",
      "execution_count": null,
      "metadata": {
        "id": "NHaelbFvn7Kt"
      },
      "outputs": [],
      "source": [
        "glove_vectors.most_similar('data',topn=10)"
      ]
    },
    {
      "cell_type": "markdown",
      "metadata": {
        "id": "Slz-pnrSn7Ku"
      },
      "source": [
        "* Le code ci-dessous permet de récupérer l'ordre de similarité entre deux termes?"
      ]
    },
    {
      "cell_type": "code",
      "execution_count": null,
      "metadata": {
        "id": "l3aLnZ6un7Ku"
      },
      "outputs": [],
      "source": [
        "glove_vectors.similarity('data', 'information')"
      ]
    },
    {
      "cell_type": "markdown",
      "metadata": {
        "id": "zQ4iaEi0n7Ku"
      },
      "source": [
        "* Le code ci-dessous permet de récupérer le terme le moins convenable dans un ensemble de termes en se basant sur leurs similarités."
      ]
    },
    {
      "cell_type": "code",
      "execution_count": null,
      "metadata": {
        "id": "j23TAVUfn7Ku"
      },
      "outputs": [],
      "source": [
        "print(glove_vectors.doesnt_match(['data', 'information', 'processing', 'computer', 'car','machine','dashboard']))"
      ]
    },
    {
      "cell_type": "markdown",
      "metadata": {
        "id": "2loNKH3Cn7Kv"
      },
      "source": [
        "Bien évidemment, on peut apprendre notre propre modèle en suivant les étapes ci-dessous\n",
        "\n",
        "   * Récupérer le corpus (Voir le code dans la section 1)\n",
        "   * Réaliser les prétraitements nécessaires pour obtenir la liste des documents segmentés: une liste de listes tq chaque sous listes comporte les mots d'un documents du corpus."
      ]
    },
    {
      "cell_type": "code",
      "execution_count": null,
      "metadata": {
        "id": "Xv0ewdaFn7Kv"
      },
      "outputs": [],
      "source": [
        "corpus_lemetized=[]\n",
        "for doc in corpus:\n",
        "    words = word_tokenize(doc)\n",
        "    words = [lemmmatizer.lemmatize(word.lower()) for word in words if(not word in set(stopwords.words('english')) and  word.isalpha())]\n",
        "    corpus_lemetized.append(words)\n",
        "corpus_lemetized\n",
        "\n",
        "\n"
      ]
    },
    {
      "cell_type": "markdown",
      "metadata": {
        "id": "a9mKFf9Ln7Kv"
      },
      "source": [
        "Pour générer le modèle"
      ]
    },
    {
      "cell_type": "code",
      "execution_count": null,
      "metadata": {
        "id": "qZoB9qFnn7Kv"
      },
      "outputs": [],
      "source": [
        "from gensim.models import Word2Vec\n",
        "from gensim.test.utils import datapath\n",
        "from gensim.models.word2vec import PathLineSentences\n",
        "model = Word2Vec(sentences=corpus_lemetized, vector_size=10, window=3, min_count=1, workers=2)\n"
      ]
    },
    {
      "cell_type": "markdown",
      "metadata": {
        "id": "elLVPLtYn7Kw"
      },
      "source": [
        "Pour récupérer la representation vectorielle d'un mot:   "
      ]
    },
    {
      "cell_type": "code",
      "execution_count": null,
      "metadata": {
        "id": "tS0f0jren7Kw"
      },
      "outputs": [],
      "source": [
        "model.wv['data']"
      ]
    },
    {
      "cell_type": "markdown",
      "metadata": {
        "id": "kuwySRMPn7Kw"
      },
      "source": [
        "Pour récupérer tous les vecteurs"
      ]
    },
    {
      "cell_type": "code",
      "execution_count": null,
      "metadata": {
        "id": "WdhavQHZn7Kw"
      },
      "outputs": [],
      "source": [
        "vectors=model.wv.vectors\n",
        "vectors"
      ]
    },
    {
      "cell_type": "markdown",
      "metadata": {
        "id": "Vr_V6QWbn7Kx"
      },
      "source": [
        "Recuperer tous le smots"
      ]
    },
    {
      "cell_type": "code",
      "execution_count": null,
      "metadata": {
        "id": "AXwPc9L9n7Kx"
      },
      "outputs": [],
      "source": [
        "words = model.wv.index_to_key\n",
        "words"
      ]
    },
    {
      "cell_type": "markdown",
      "metadata": {
        "id": "tnjIvzsOn7Kx"
      },
      "source": [
        "### Doc2Vec"
      ]
    },
    {
      "cell_type": "markdown",
      "metadata": {
        "id": "EvEcqy7Pn7Ky"
      },
      "source": [
        "Doc2Vec est une implémentation de l'algorithme Paragraph Vector qui est basé sur Word2Vec et qui est plus adapté à la comparaison de documents texte en se basant sur leur représentations vectorielles.\n",
        "\n",
        "Cet algorithme dépasse dans sa performance l’utilisation des moyenne des représentations vectorielles des mots présents dans un documents texte.\n"
      ]
    },
    {
      "cell_type": "markdown",
      "metadata": {
        "id": "h4ar-zvsn7Ky"
      },
      "source": [
        "* Pour génerer le modèle"
      ]
    },
    {
      "cell_type": "code",
      "execution_count": null,
      "metadata": {
        "id": "gUy4PEkyn7Ky"
      },
      "outputs": [],
      "source": [
        "from gensim.models.doc2vec import Doc2Vec, TaggedDocument\n",
        "documents = [TaggedDocument(doc, [i]) for i, doc in enumerate(corpus_lemetized)]\n",
        "model = Doc2Vec(documents, vector_size=5, window=2, min_count=1, workers=4)"
      ]
    },
    {
      "cell_type": "markdown",
      "metadata": {
        "id": "6dPkDotyn7Kz"
      },
      "source": [
        "* Pour récupérer la representation vectorielle de tous les documents   "
      ]
    },
    {
      "cell_type": "code",
      "execution_count": null,
      "metadata": {
        "id": "xWOPdLgyn7Kz"
      },
      "outputs": [],
      "source": [
        "vectors=model.dv.vectors\n",
        "vectors"
      ]
    },
    {
      "cell_type": "markdown",
      "metadata": {
        "id": "zmjdjvr1n7Kz"
      },
      "source": [
        "Pour récupérer la les labels de tous les documents   "
      ]
    },
    {
      "cell_type": "code",
      "execution_count": null,
      "metadata": {
        "id": "z0A43I9vn7Kz"
      },
      "outputs": [],
      "source": [
        "labels=model.dv.index_to_key\n",
        "labels"
      ]
    },
    {
      "cell_type": "markdown",
      "metadata": {
        "id": "-7kBN8gAn7Kz"
      },
      "source": [
        "Pour récupérer la représentation vectorielle d'un document particulier:"
      ]
    },
    {
      "cell_type": "code",
      "execution_count": null,
      "metadata": {
        "id": "qplxGLPPn7K0"
      },
      "outputs": [],
      "source": [
        "model.dv[80]"
      ]
    },
    {
      "cell_type": "markdown",
      "metadata": {
        "id": "bHJFQpDXn7K0"
      },
      "source": [
        "### Exercice\n",
        "\n",
        "\n",
        "* En se servant de la représentation vectorielle doc2vec, calculer les similarités entre les réponses des étudiants et les définitions trouvées sur Wikipédia."
      ]
    },
    {
      "cell_type": "code",
      "execution_count": null,
      "metadata": {
        "id": "niLAZaZ7n7K0"
      },
      "outputs": [],
      "source": []
    }
  ],
  "metadata": {
    "kernelspec": {
      "display_name": "Python 3",
      "language": "python",
      "name": "python3"
    },
    "language_info": {
      "codemirror_mode": {
        "name": "ipython",
        "version": 3
      },
      "file_extension": ".py",
      "mimetype": "text/x-python",
      "name": "python",
      "nbconvert_exporter": "python",
      "pygments_lexer": "ipython3",
      "version": "3.7.6"
    },
    "colab": {
      "provenance": []
    }
  },
  "nbformat": 4,
  "nbformat_minor": 0
}